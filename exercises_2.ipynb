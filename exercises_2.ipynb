{
 "cells": [
  {
   "cell_type": "code",
   "execution_count": 18,
   "metadata": {},
   "outputs": [
    {
     "name": "stdout",
     "output_type": "stream",
     "text": [
      "5.0\n"
     ]
    }
   ],
   "source": [
    "def sum_numbers(a, b, c):\n",
    "    return a + b + c\n",
    "\n",
    "\n",
    "def average_numbers(a, b, c):\n",
    "    return sum_numbers(a, b, c) / 3\n",
    "\n",
    "\n",
    "print(average_numbers(3, 4, 8))"
   ]
  },
  {
   "cell_type": "markdown",
   "metadata": {},
   "source": [
    "# Exercise 1 | Temperature Converter Functions\n",
    "\n",
    "### Task\n",
    "Create two functions:\n",
    "1. `celsius_to_fahrenheit(celsius)`: Converts Celsius to Fahrenheit\n",
    "2. `fahrenheit_to_celsius(fahrenheit)`: Converts Fahrenheit to Celsius\n",
    "\n",
    "Then create a main function `temperature_converter()` that:\n",
    "1. Asks the user to choose a conversion direction (C to F or F to C)\n",
    "2. Prompts for the temperature to convert\n",
    "3. Calls the appropriate conversion function\n",
    "4. Prints the result\n",
    "\n",
    "### Function Signatures\n",
    "```python\n",
    "def celsius_to_fahrenheit(celsius):\n",
    "    # Your code here\n",
    "    pass\n",
    "\n",
    "def fahrenheit_to_celsius(fahrenheit):\n",
    "    # Your code here\n",
    "    pass\n",
    "\n",
    "def temperature_converter():\n",
    "    # Your code here\n",
    "    pass\n",
    "\n",
    "# This is how your function will be called:\n",
    "temperature_converter()\n",
    "```\n",
    "\n",
    "### Example Output\n",
    "```\n",
    "Choose conversion direction:\n",
    "1. Celsius to Fahrenheit\n",
    "2. Fahrenheit to Celsius\n",
    "Enter your choice (1 or 2): 1\n",
    "Enter temperature in Celsius: 100\n",
    "100°C is equal to 212°F\n",
    "\n",
    "Choose conversion direction:\n",
    "1. Celsius to Fahrenheit\n",
    "2. Fahrenheit to Celsius\n",
    "Enter your choice (1 or 2): 2\n",
    "Enter temperature in Fahrenheit: 32\n",
    "32°F is equal to 0°C\n",
    "```\n",
    "\n",
    "### Hints\n",
    "1. The formula for Celsius to Fahrenheit is: (C * 9/5) + 32\n",
    "2. The formula for Fahrenheit to Celsius is: (F - 32) * 5/9\n",
    "3. Use `input()` to get user input and `int()` or `float()` to convert it to a number\n",
    "4. Use conditional statements in `temperature_converter()` to determine which conversion function to call\n",
    "5. Round the results to 2 decimal places using `round(number, 2)`\n",
    "\n",
    "### Note\n",
    "Make sure to handle potential ValueError exceptions if the user enters invalid input."
   ]
  },
  {
   "cell_type": "code",
   "execution_count": 19,
   "metadata": {},
   "outputs": [
    {
     "name": "stdout",
     "output_type": "stream",
     "text": [
      "Choose conversion direction:\n",
      "1. Celsius to Fahrenheit\n",
      "2. Fahrenheit to Celsius\n",
      "1\n"
     ]
    }
   ],
   "source": [
    "# Choose conversion direction:\n",
    "# 1. Celsius to Fahrenheit\n",
    "# 2. Fahrenheit to Celsius\n",
    "# Enter your choice (1 or 2): 1\n",
    "\n",
    "\n",
    "print(\"Choose conversion direction:\")\n",
    "print(\"1. Celsius to Fahrenheit\")\n",
    "print(\"2. Fahrenheit to Celsius\")\n",
    "\n",
    "option = input(\"Enter your choice (1 or 2):\")\n",
    "\n",
    "print(option)"
   ]
  },
  {
   "cell_type": "markdown",
   "metadata": {},
   "source": [
    "### Task\n",
    "Complete the following function `guess_number()` that implements a number guessing game. The function should:\n",
    "1. Generate a random number between 1 and 100 (inclusive)\n",
    "2. Repeatedly ask the user for guesses\n",
    "3. Provide feedback on whether the guess is too high, too low, or correct\n",
    "4. Return the number of attempts it took to guess the correct number\n",
    "\n",
    "Use a while loop to implement the guessing logic.\n",
    "\n",
    "### Function Signature\n",
    "```python\n",
    "def guess_number():\n",
    "    # Your code here\n",
    "    pass\n",
    "\n",
    "### Example\n",
    "# This is how your function will be called:\n",
    "attempts = guess_number()\n",
    "print(f\"You guessed the number in {attempts} attempts!\")\n",
    "```\n",
    "\n",
    "### Output Format\n",
    "Your function should print feedback for each guess and return the number of attempts.\n",
    "\n",
    "Example output:\n",
    "```\n",
    "I'm thinking of a number between 1 and 100.\n",
    "Enter your guess: 50\n",
    "Too high! Try again.\n",
    "Enter your guess: 25\n",
    "Too low! Try again.\n",
    "Enter your guess: 37\n",
    "Congratulations! You've guessed the number!\n",
    "```\n",
    "\n",
    "### Hints\n",
    "1. Use the `random` module to generate a random number.\n",
    "2. Use `input()` to get user guesses.\n",
    "3. Convert the user's input to an integer for comparison.\n",
    "4. Use a while loop to continue asking for guesses until the correct number is guessed.\n",
    "5. Keep track of the number of attempts.\n",
    "\n",
    "### Note\n",
    "Make sure to handle potential ValueError exceptions if the user enters non-integer input."
   ]
  }
 ],
 "metadata": {
  "kernelspec": {
   "display_name": "Python 3",
   "language": "python",
   "name": "python3"
  },
  "language_info": {
   "codemirror_mode": {
    "name": "ipython",
    "version": 3
   },
   "file_extension": ".py",
   "mimetype": "text/x-python",
   "name": "python",
   "nbconvert_exporter": "python",
   "pygments_lexer": "ipython3",
   "version": "3.13.0"
  }
 },
 "nbformat": 4,
 "nbformat_minor": 2
}
