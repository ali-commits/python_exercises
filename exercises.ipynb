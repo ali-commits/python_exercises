{
 "cells": [
  {
   "cell_type": "markdown",
   "metadata": {},
   "source": [
    "# Python Exercises"
   ]
  },
  {
   "cell_type": "markdown",
   "metadata": {},
   "source": [
    "## Exercise 1 | Fibonacci Sequence\n",
    "\n",
    "The Fibonacci sequence is a series of numbers in which each number is the sum of the two preceding ones, usually starting with 0 and 1. Write a Python program that prints the Fibonacci sequence up to a given number.\n",
    "\n",
    "### Task\n",
    "complete the following function that takes an integer `n` and prints the Fibonacci sequence up to `n`.\n",
    "\n",
    "### Example\n",
    "input:\n",
    "```\n",
    "n = 10\n",
    "```\n",
    "\n",
    "output:\n",
    "```\n",
    "0 1 1 2 3 5 8 13 21 34\n",
    "```\n"
   ]
  },
  {
   "cell_type": "code",
   "execution_count": 10,
   "metadata": {},
   "outputs": [
    {
     "name": "stdout",
     "output_type": "stream",
     "text": [
      "0 1 1 2 3 5 8 13 21 34 "
     ]
    }
   ],
   "source": [
    "n = 10\n",
    "\n",
    "a, b = 0, 1\n",
    "\n",
    "print(a, b, end=\" \")\n",
    "for i in range(n - 2):\n",
    "    c = a + b\n",
    "    print(c, end=\" \")\n",
    "    a, b = b, c"
   ]
  },
  {
   "cell_type": "markdown",
   "metadata": {},
   "source": [
    "# Exercise 2 | Prime Numbers\n",
    "\n",
    "A prime number is a natural number greater than 1 that is not a product of two smaller natural numbers. In other words, a prime number is a number that is not divisible by any other number except 1 and itself.\n",
    "\n",
    "### Task\n",
    "complete the following code that takes an integer `n` and prints `prime` if `n` is a prime number, and `not prime` otherwise.\n",
    "\n",
    "### Example\n",
    "input:\n",
    "```\n",
    "n = 7\n",
    "```\n",
    "\n",
    "output:\n",
    "```\n",
    "prime\n",
    "```\n",
    "\n"
   ]
  },
  {
   "cell_type": "code",
   "execution_count": 58,
   "metadata": {},
   "outputs": [
    {
     "name": "stdout",
     "output_type": "stream",
     "text": [
      "not prime\n"
     ]
    }
   ],
   "source": [
    "n = 121\n",
    "\n",
    "\n",
    "\n",
    "for i in range(2, n):\n",
    "    if n % i == 0:\n",
    "        print(\"not prime\")\n",
    "        break\n",
    "else:\n",
    "    print(\"Prime\")"
   ]
  },
  {
   "cell_type": "markdown",
   "metadata": {},
   "source": [
    "# Exercise 3 | right-angled triangle\n",
    "\n",
    "### Task\n",
    "complete the following code that takes an integer `n` and prints a right-angled triangle of height `n`.\n",
    "\n",
    "### Example\n",
    "input:\n",
    "```\n",
    "n = 5\n",
    "```\n",
    "\n",
    "output:\n",
    "```\n",
    "*\n",
    "**\n",
    "***\n",
    "****\n",
    "*****\n",
    "```"
   ]
  },
  {
   "cell_type": "code",
   "execution_count": 5,
   "metadata": {},
   "outputs": [
    {
     "name": "stdout",
     "output_type": "stream",
     "text": [
      "*\n",
      "**\n",
      "***\n",
      "****\n",
      "*****\n"
     ]
    }
   ],
   "source": [
    "n = 5\n",
    "#### write code here\n",
    "\n",
    "for i in range(n):\n",
    "    print(\"*\" * (i + 1))"
   ]
  },
  {
   "cell_type": "markdown",
   "metadata": {},
   "source": [
    "# Exercise 4 | Pyramid\n",
    "\n",
    "### Task\n",
    "complete the following code that takes an integer `n` and prints a pyramid of height `n`.\n",
    "\n",
    "### Example\n",
    "\n",
    "input:\n",
    "```\n",
    "n = 5\n",
    "```\n",
    "\n",
    "output:\n",
    "```\n",
    "    *    \n",
    "   ***   \n",
    "  *****  \n",
    " ******* \n",
    "*********\n",
    "```"
   ]
  },
  {
   "cell_type": "code",
   "execution_count": 8,
   "metadata": {},
   "outputs": [
    {
     "name": "stdout",
     "output_type": "stream",
     "text": [
      "         *\n",
      "        ***\n",
      "       *****\n",
      "      *******\n",
      "     *********\n",
      "    ***********\n",
      "   *************\n",
      "  ***************\n",
      " *****************\n",
      "*******************\n"
     ]
    }
   ],
   "source": [
    "n = 10\n",
    "\n",
    "# stars = 1\n",
    "# spaces = n - 1\n",
    "\n",
    "# for i in range(n):\n",
    "#     print((\" \" * spaces) + (\"*\" * stars))\n",
    "#     spaces = spaces - 1\n",
    "#     stars = stars + 2\n",
    "\n",
    "for i in range(n):\n",
    "    print((\" \" * (n - 1 - i)) + (\"*\" * (i * 2 + 1)))"
   ]
  },
  {
   "cell_type": "markdown",
   "metadata": {},
   "source": [
    "# Exercise 5 | diamond\n",
    "\n",
    "### Task\n",
    "complete the following code that takes an integer `n` and prints a diamond of height `n`.\n",
    "\n",
    "### Example\n",
    "\n",
    "input:\n",
    "```\n",
    "n = 5\n",
    "```\n",
    "\n",
    "output:\n",
    "```\n",
    "    *  \n",
    "   *** \n",
    "  *****\n",
    " *******\n",
    "*********\n",
    " *******\n",
    "  *****\n",
    "   *** \n",
    "    *  \n",
    "```\n",
    "\n"
   ]
  },
  {
   "cell_type": "code",
   "execution_count": 16,
   "metadata": {},
   "outputs": [
    {
     "name": "stdout",
     "output_type": "stream",
     "text": [
      "    *\n",
      "   ***\n",
      "  *****\n",
      " *******\n",
      "*********\n",
      " *******\n",
      "  *****\n",
      "   ***\n",
      "    *\n"
     ]
    }
   ],
   "source": [
    "n = 5\n",
    "for i in range(n):\n",
    "    print((\" \" * (n - 1 - i)) + (\"*\" * (i * 2 + 1)))\n",
    "\n",
    "for i in range(n - 2, -1, -1):\n",
    "    print((\" \" * (n - 1 - i)) + (\"*\" * (i * 2 + 1)))\n",
    "\n",
    "\n",
    "# range(start=0, end, incremnt=1)"
   ]
  },
  {
   "cell_type": "markdown",
   "metadata": {},
   "source": [
    "# Exercise 6 | Hallow Square\n",
    "\n",
    "### Task\n",
    "complete the following code that takes an integer `n` and prints a hallow square of height `n`.\n",
    "\n",
    "### Example\n",
    "\n",
    "input:\n",
    "```\n",
    "n = 5\n",
    "```\n",
    "\n",
    "output:\n",
    "```\n",
    "*****\n",
    "*   *\n",
    "*   *\n",
    "*   *\n",
    "*****\n",
    "```\n"
   ]
  },
  {
   "cell_type": "code",
   "execution_count": 20,
   "metadata": {},
   "outputs": [
    {
     "name": "stdout",
     "output_type": "stream",
     "text": [
      "**********\n",
      "*        *\n",
      "*        *\n",
      "*        *\n",
      "*        *\n",
      "*        *\n",
      "*        *\n",
      "*        *\n",
      "*        *\n",
      "**********\n"
     ]
    }
   ],
   "source": [
    "n = 10\n",
    "#### write code here\n",
    "print(\"*\" * n)\n",
    "\n",
    "for i in range(n - 2):\n",
    "    print(\"*\" + (\" \" * (n - 2)) + \"*\")\n",
    "\n",
    "print(\"*\" * n)"
   ]
  },
  {
   "cell_type": "markdown",
   "metadata": {},
   "source": [
    "# Exercise 7 | Number Pyramid\n",
    "\n",
    "### Task\n",
    "complete the following code that takes an integer `n` and prints a number pyramid of height `n`.\n",
    "\n",
    "### Example\n",
    "\n",
    "input:\n",
    "```\n",
    "n = 5\n",
    "```\n",
    "\n",
    "output:\n",
    "```\n",
    "    1    \n",
    "   1 2   \n",
    "  1 2 3  \n",
    " 1 2 3 4 \n",
    "1 2 3 4 5\n",
    "```"
   ]
  },
  {
   "cell_type": "markdown",
   "metadata": {},
   "source": [
    "# Exercise 8 | Pascal's Triangle\n",
    "\n",
    "### Task\n",
    "complete the following code that takes an integer `n` and prints Pascal's triangle of height `n`.\n",
    "\n",
    "### Example\n",
    "\n",
    "input:\n",
    "```\n",
    "n = 5\n",
    "```\n",
    "\n",
    "output:\n",
    "```\n",
    "    1    \n",
    "   1 1   \n",
    "  1 2 1  \n",
    " 1 3 3 1 \n",
    "1 4 6 4 1\n",
    "```\n"
   ]
  },
  {
   "cell_type": "code",
   "execution_count": null,
   "metadata": {},
   "outputs": [],
   "source": [
    "n = 5\n",
    "#### write code here"
   ]
  },
  {
   "cell_type": "markdown",
   "metadata": {},
   "source": [
    "# Exercise 9 | Reverse a String\n",
    "\n",
    "### Task\n",
    "complete the following code that takes a string `s` and prints the reverse of `s`.\n",
    "\n",
    "### Example\n",
    "\n",
    "input:\n",
    "```\n",
    "s = \"hello\"\n",
    "```\n",
    "\n",
    "output:\n",
    "```\n",
    "olleh\n",
    "```"
   ]
  },
  {
   "cell_type": "code",
   "execution_count": 14,
   "metadata": {},
   "outputs": [
    {
     "name": "stdout",
     "output_type": "stream",
     "text": [
      "maeT olleH\n"
     ]
    }
   ],
   "source": [
    "s = \"Hello Team\"\n",
    "#### write code here\n",
    "\n",
    "\n",
    "print(s[::-1])"
   ]
  },
  {
   "cell_type": "markdown",
   "metadata": {},
   "source": [
    "# Exercise 10 | Reverse words in a string\n",
    "\n",
    "### Task\n",
    "complete the following code that takes a string `s` and prints the reverse of each word in `s`.\n",
    "\n",
    "### Example\n",
    "\n",
    "input:\n",
    "```\n",
    "s = \"Hello Nova team\"\n",
    "```\n",
    "\n",
    "output:\n",
    "```\n",
    "team Nova Hello\n",
    "```\n",
    "\n"
   ]
  },
  {
   "cell_type": "code",
   "execution_count": 27,
   "metadata": {},
   "outputs": [
    {
     "name": "stdout",
     "output_type": "stream",
     "text": [
      "Team Nova Hello\n"
     ]
    }
   ],
   "source": [
    "s = \"Hello Nova Team\"\n",
    "#### write code here\n",
    "\n",
    "# words = s.split(\" \")  # split into list\n",
    "# words_reversed = words[::-1]  # reverse the list\n",
    "\n",
    "# reversed_text = \" \".join(words_reversed)  # join the list elements into one text\n",
    "\n",
    "# print(reversed_text)\n",
    "\n",
    "reversed = \" \".join(s.split(\" \")[::-1])\n",
    "\n",
    "\n",
    "print(reversed)"
   ]
  },
  {
   "cell_type": "markdown",
   "metadata": {},
   "source": [
    "# Exercise 11 | Palindrome Checker\n",
    "\n",
    "Palindrome is a word, phrase, number, or other sequence of characters that reads the same forward and backward (ignoring spaces, punctuation, and capitalization).\n",
    "\n",
    "### Task\n",
    "complete the following code that takes a string `s` and prints `palindrome` if `s` is a palindrome, and `not palindrome` otherwise.\n",
    "\n",
    "### Example\n",
    "\n",
    "input:\n",
    "```\n",
    "s = \"race car\"\n",
    "```\n",
    "\n",
    "output:\n",
    "```\n",
    "palindrome\n",
    "```\n",
    "\n"
   ]
  },
  {
   "cell_type": "code",
   "execution_count": 39,
   "metadata": {},
   "outputs": [
    {
     "name": "stdout",
     "output_type": "stream",
     "text": [
      "Plaindrome\n"
     ]
    }
   ],
   "source": [
    "s = \"racecar\"\n",
    "#### write code here\n",
    "\n",
    "# words = s.split(\" \")\n",
    "# s = \"\".join(words)\n",
    "\n",
    "s = s.replace(\" \", \"\")\n",
    "\n",
    "\n",
    "if s == s[::-1]:\n",
    "    print(\"Plaindrome\")\n",
    "else:\n",
    "    print(\"Not Plaindrome\")"
   ]
  },
  {
   "cell_type": "markdown",
   "metadata": {},
   "source": [
    "# Exercise 12 | Count Vowels\n",
    "\n",
    "### Task\n",
    "complete the following code that takes a string `s` and prints the number of vowels in `s`.\n",
    "\n",
    "### Example\n",
    "\n",
    "input:\n",
    "```\n",
    "s = \"hello\"\n",
    "```\n",
    "\n",
    "output:\n",
    "```\n",
    "2\n",
    "```"
   ]
  },
  {
   "cell_type": "code",
   "execution_count": null,
   "metadata": {},
   "outputs": [],
   "source": [
    "s = \"Hello\"\n",
    "#### write code here"
   ]
  },
  {
   "cell_type": "markdown",
   "metadata": {},
   "source": [
    "# Exercise 13 | Capitalize Each Word\n",
    "\n",
    "### Task\n",
    "complete the following code that takes a string `s` and prints `s` with each word capitalized.\n",
    "\n",
    "### Example\n",
    "\n",
    "input:\n",
    "```\n",
    "s = \"hello nova team\"\n",
    "```\n",
    "\n",
    "output:\n",
    "```\n",
    "Hello Nova Team\n",
    "```\n"
   ]
  },
  {
   "cell_type": "markdown",
   "metadata": {
    "vscode": {
     "languageId": "plaintext"
    }
   },
   "source": [
    "# Exercise 14 | Word Frequency Counter\n",
    "\n",
    "### Task\n",
    "Complete the following function that takes a string `text` and returns a dictionary containing the frequency of each word in the text.\n",
    "\n",
    "### Example\n",
    "input:\n",
    "```\n",
    "text = \"the quick brown fox jumps over the lazy dog\"\n",
    "```\n",
    "\n",
    "output:\n",
    "```\n",
    "{'the': 2, 'quick': 1, 'brown': 1, 'fox': 1, 'jumps': 1, 'over': 1, 'lazy': 1, 'dog': 1}\n",
    "```"
   ]
  },
  {
   "cell_type": "code",
   "execution_count": null,
   "metadata": {},
   "outputs": [],
   "source": [
    "text = \"Hello, World!\"\n",
    "#### write code here"
   ]
  }
 ],
 "metadata": {
  "kernelspec": {
   "display_name": "Python 3",
   "language": "python",
   "name": "python3"
  },
  "language_info": {
   "codemirror_mode": {
    "name": "ipython",
    "version": 3
   },
   "file_extension": ".py",
   "mimetype": "text/x-python",
   "name": "python",
   "nbconvert_exporter": "python",
   "pygments_lexer": "ipython3",
   "version": "3.13.0"
  }
 },
 "nbformat": 4,
 "nbformat_minor": 2
}
