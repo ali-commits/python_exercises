{
 "cells": [
  {
   "cell_type": "markdown",
   "metadata": {},
   "source": [
    "# Python Exercises"
   ]
  },
  {
   "cell_type": "markdown",
   "metadata": {},
   "source": [
    "## Exercise 1 | Fibonacci Sequence\n",
    "\n",
    "The Fibonacci sequence is a series of numbers in which each number is the sum of the two preceding ones, usually starting with 0 and 1. Write a Python program that prints the Fibonacci sequence up to a given number.\n",
    "\n",
    "### Task\n",
    "complete the following function that takes an integer `n` and prints the Fibonacci sequence up to `n`.\n",
    "\n",
    "### Example\n",
    "input:\n",
    "```\n",
    "n = 10\n",
    "```\n",
    "\n",
    "output:\n",
    "```\n",
    "0 1 1 2 3 5 8 13 21 34\n",
    "```\n"
   ]
  },
  {
   "cell_type": "code",
   "execution_count": null,
   "metadata": {},
   "outputs": [],
   "source": [
    "n = 10\n",
    "# write code here"
   ]
  },
  {
   "cell_type": "markdown",
   "metadata": {},
   "source": [
    "# Exercise 2 | Prime Numbers\n",
    "\n",
    "A prime number is a natural number greater than 1 that is not a product of two smaller natural numbers. In other words, a prime number is a number that is not divisible by any other number except 1 and itself.\n",
    "\n",
    "### Task\n",
    "complete the following code that takes an integer `n` and prints `prime` if `n` is a prime number, and `not prime` otherwise.\n",
    "\n",
    "### Example\n",
    "input:\n",
    "```\n",
    "n = 7\n",
    "```\n",
    "\n",
    "output:\n",
    "```\n",
    "prime\n",
    "```\n",
    "\n"
   ]
  },
  {
   "cell_type": "code",
   "execution_count": 1,
   "metadata": {},
   "outputs": [],
   "source": [
    "n = 10\n",
    "#### write code here"
   ]
  },
  {
   "cell_type": "markdown",
   "metadata": {},
   "source": [
    "# Exercise 3 | right-angled triangle\n",
    "\n",
    "### Task\n",
    "complete the following code that takes an integer `n` and prints a right-angled triangle of height `n`.\n",
    "\n",
    "### Example\n",
    "input:\n",
    "```\n",
    "n = 5\n",
    "```\n",
    "\n",
    "output:\n",
    "```\n",
    "*\n",
    "**\n",
    "***\n",
    "****\n",
    "*****\n",
    "```"
   ]
  },
  {
   "cell_type": "code",
   "execution_count": 2,
   "metadata": {},
   "outputs": [],
   "source": [
    "n = 10\n",
    "#### write code here"
   ]
  },
  {
   "cell_type": "markdown",
   "metadata": {},
   "source": [
    "# Exercise 4 | Pyramid\n",
    "\n",
    "### Task\n",
    "complete the following code that takes an integer `n` and prints a pyramid of height `n`.\n",
    "\n",
    "### Example\n",
    "\n",
    "input:\n",
    "```\n",
    "n = 5\n",
    "```\n",
    "\n",
    "output:\n",
    "```\n",
    "    *    \n",
    "   ***   \n",
    "  *****  \n",
    " ******* \n",
    "*********\n",
    "```"
   ]
  },
  {
   "cell_type": "code",
   "execution_count": null,
   "metadata": {},
   "outputs": [],
   "source": [
    "n = 5\n",
    "#### write code here"
   ]
  },
  {
   "cell_type": "markdown",
   "metadata": {},
   "source": [
    "# Exercise 5 | diamond\n",
    "\n",
    "### Task\n",
    "complete the following code that takes an integer `n` and prints a diamond of height `n`.\n",
    "\n",
    "### Example\n",
    "\n",
    "input:\n",
    "```\n",
    "n = 5\n",
    "```\n",
    "\n",
    "output:\n",
    "```\n",
    "  *  \n",
    " *** \n",
    "*****\n",
    " *** \n",
    "  *  \n",
    "```\n",
    "\n"
   ]
  },
  {
   "cell_type": "markdown",
   "metadata": {},
   "source": [
    "# Exercise 6 | Hallow Square\n",
    "\n",
    "### Task\n",
    "complete the following code that takes an integer `n` and prints a hallow square of height `n`.\n",
    "\n",
    "### Example\n",
    "\n",
    "input:\n",
    "```\n",
    "n = 5\n",
    "```\n",
    "\n",
    "output:\n",
    "```\n",
    "*****\n",
    "*   *\n",
    "*   *\n",
    "*   *\n",
    "*****\n",
    "```\n"
   ]
  },
  {
   "cell_type": "code",
   "execution_count": null,
   "metadata": {},
   "outputs": [],
   "source": [
    "n = 5\n",
    "#### write code here"
   ]
  },
  {
   "cell_type": "markdown",
   "metadata": {},
   "source": [
    "# Exercise 7 | Number Pyramid\n",
    "\n",
    "### Task\n",
    "complete the following code that takes an integer `n` and prints a number pyramid of height `n`.\n",
    "\n",
    "### Example\n",
    "\n",
    "input:\n",
    "```\n",
    "n = 5\n",
    "```\n",
    "\n",
    "output:\n",
    "```\n",
    "    1    \n",
    "   1 2   \n",
    "  1 2 3  \n",
    " 1 2 3 4 \n",
    "1 2 3 4 5\n",
    "```"
   ]
  },
  {
   "cell_type": "markdown",
   "metadata": {},
   "source": [
    "# Exercise 8 | Pascal's Triangle\n",
    "\n",
    "### Task\n",
    "complete the following code that takes an integer `n` and prints Pascal's triangle of height `n`.\n",
    "\n",
    "### Example\n",
    "\n",
    "input:\n",
    "```\n",
    "n = 5\n",
    "```\n",
    "\n",
    "output:\n",
    "```\n",
    "    1    \n",
    "   1 1   \n",
    "  1 2 1  \n",
    " 1 3 3 1 \n",
    "1 4 6 4 1\n",
    "```\n"
   ]
  },
  {
   "cell_type": "code",
   "execution_count": null,
   "metadata": {},
   "outputs": [],
   "source": [
    "n = 5\n",
    "#### write code here"
   ]
  },
  {
   "cell_type": "markdown",
   "metadata": {},
   "source": [
    "# Exercise 9 | Reverse a String\n",
    "\n",
    "### Task\n",
    "complete the following code that takes a string `s` and prints the reverse of `s`.\n",
    "\n",
    "### Example\n",
    "\n",
    "input:\n",
    "```\n",
    "s = \"hello\"\n",
    "```\n",
    "\n",
    "output:\n",
    "```\n",
    "olleh\n",
    "```"
   ]
  },
  {
   "cell_type": "code",
   "execution_count": null,
   "metadata": {},
   "outputs": [],
   "source": [
    "s = \"Hello\"\n",
    "#### write code here"
   ]
  },
  {
   "cell_type": "markdown",
   "metadata": {},
   "source": [
    "# Exercise 10 | Reverse words in a string\n",
    "\n",
    "### Task\n",
    "complete the following code that takes a string `s` and prints the reverse of each word in `s`.\n",
    "\n",
    "### Example\n",
    "\n",
    "input:\n",
    "```\n",
    "s = \"Hello Nova team\"\n",
    "```\n",
    "\n",
    "output:\n",
    "```\n",
    "team Nova Hello\n",
    "```\n",
    "\n"
   ]
  },
  {
   "cell_type": "code",
   "execution_count": null,
   "metadata": {},
   "outputs": [],
   "source": []
  },
  {
   "cell_type": "markdown",
   "metadata": {},
   "source": [
    "# Exercise 11 | Palindrome Checker\n",
    "\n",
    "Palindrome is a word, phrase, number, or other sequence of characters that reads the same forward and backward (ignoring spaces, punctuation, and capitalization).\n",
    "\n",
    "### Task\n",
    "complete the following code that takes a string `s` and prints `palindrome` if `s` is a palindrome, and `not palindrome` otherwise.\n",
    "\n",
    "### Example\n",
    "\n",
    "input:\n",
    "```\n",
    "s = \"race car\"\n",
    "```\n",
    "\n",
    "output:\n",
    "```\n",
    "palindrome\n",
    "```\n",
    "\n"
   ]
  },
  {
   "cell_type": "code",
   "execution_count": null,
   "metadata": {},
   "outputs": [],
   "source": []
  },
  {
   "cell_type": "markdown",
   "metadata": {},
   "source": [
    "# Exercise 12 | Count Vowels\n",
    "\n",
    "### Task\n",
    "complete the following code that takes a string `s` and prints the number of vowels in `s`.\n",
    "\n",
    "### Example\n",
    "\n",
    "input:\n",
    "```\n",
    "s = \"hello\"\n",
    "```\n",
    "\n",
    "output:\n",
    "```\n",
    "2\n",
    "```"
   ]
  },
  {
   "cell_type": "code",
   "execution_count": null,
   "metadata": {},
   "outputs": [],
   "source": []
  },
  {
   "cell_type": "markdown",
   "metadata": {},
   "source": [
    "# Exercise 13 | Capitalize Each Word\n",
    "\n",
    "### Task\n",
    "complete the following code that takes a string `s` and prints `s` with each word capitalized.\n",
    "\n",
    "### Example\n",
    "\n",
    "input:\n",
    "```\n",
    "s = \"hello nova team\"\n",
    "```\n",
    "\n",
    "output:\n",
    "```\n",
    "Hello Nova Team\n",
    "```\n"
   ]
  },
  {
   "cell_type": "markdown",
   "metadata": {
    "vscode": {
     "languageId": "plaintext"
    }
   },
   "source": [
    "# Exercise 14 | Word Frequency Counter\n",
    "\n",
    "### Task\n",
    "Complete the following function that takes a string `text` and returns a dictionary containing the frequency of each word in the text.\n",
    "\n",
    "### Example\n",
    "input:\n",
    "```\n",
    "text = \"the quick brown fox jumps over the lazy dog\"\n",
    "```\n",
    "\n",
    "output:\n",
    "```\n",
    "{'the': 2, 'quick': 1, 'brown': 1, 'fox': 1, 'jumps': 1, 'over': 1, 'lazy': 1, 'dog': 1}\n",
    "```"
   ]
  },
  {
   "cell_type": "markdown",
   "metadata": {},
   "source": []
  }
 ],
 "metadata": {
  "kernelspec": {
   "display_name": "Python 3",
   "language": "python",
   "name": "python3"
  },
  "language_info": {
   "codemirror_mode": {
    "name": "ipython",
    "version": 3
   },
   "file_extension": ".py",
   "mimetype": "text/x-python",
   "name": "python",
   "nbconvert_exporter": "python",
   "pygments_lexer": "ipython3",
   "version": "3.12.4"
  }
 },
 "nbformat": 4,
 "nbformat_minor": 2
}
